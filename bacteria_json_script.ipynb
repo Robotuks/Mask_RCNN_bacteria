{
 "cells": [
  {
   "cell_type": "code",
   "execution_count": 1,
   "metadata": {},
   "outputs": [],
   "source": [
    "import tensorflow\n",
    "import matplotlib.pyplot as plt\n",
    "import numpy as np\n",
    "import cv2\n",
    "import os\n",
    "%matplotlib inline"
   ]
  },
  {
   "cell_type": "code",
   "execution_count": 2,
   "metadata": {},
   "outputs": [],
   "source": [
    "def gimme_json(img_directory):\n",
    "    jpg_img_directory = img_directory + '/'\n",
    "    img_directory = img_directory + '_binary/' # After this it's like './Bacteria_binary/'\n",
    "    jpg_file_list = os.listdir(jpg_img_directory)\n",
    "    file_list = os.listdir(img_directory)\n",
    "\n",
    "    j = 0\n",
    "    \n",
    "    for ( file, jpg_file ) in zip(file_list, jpg_file_list) :\n",
    "        file_name = file\n",
    "        file_path = img_directory + file_name # After this it's like ./Bacteria/m0039.png\n",
    "        jpg_file_path = jpg_img_directory + jpg_file\n",
    "        \n",
    "        img = plt.imread(file_path)\n",
    "        img = img[:, :, 0]\n",
    "        img = img.astype(np.uint8)\n",
    "        img_copy = np.copy(img)\n",
    "\n",
    "        _, thresh = cv2.threshold(img_copy, 0, 1, 0)\n",
    "        _, contours, hierarchy = cv2.findContours(thresh, cv2.RETR_TREE, cv2.CHAIN_APPROX_NONE)\n",
    "\n",
    "\n",
    "        name_string = str(file_name[:-3]) + 'jpg'\n",
    "        file_size = os.path.getsize(jpg_file_path)\n",
    "        file_size_string = str(file_size)\n",
    "        name_and_size_string = '\"' + name_string + file_size_string + '\"'\n",
    "\n",
    "\n",
    "        if j > 0:\n",
    "            main_str = main_str + ','\n",
    "            main_str = main_str + name_and_size_string + ':' + '{' + '\"' + 'filename' + '\"' + ':' + '\"' + name_string + '\"' + ',' + '\"' + 'size' + '\"' + ':' + file_size_string + ',' + '\"' + 'regions' + '\"' + ':' + '['\n",
    "        elif j == 0:\n",
    "            main_str = '{' + name_and_size_string + ':' + '{' + '\"' + 'filename' + '\"' + ':' + '\"' + name_string + '\"' + ',' + '\"' + 'size' + '\"' + ':' + file_size_string + ',' + '\"' + 'regions' + '\"' + ':' + '['\n",
    "            \n",
    "            \n",
    "        # main_str = name_and_size_string + ':' + '{' + '\"' + 'filename' + '\"' + ':' + '\"' + name_string + '\"' + ',' + '\"' + 'size' + '\"' + ':' + file_size_string + ',' + '\"' + 'regions' + '\"' + ':' + '['\n",
    "        xs = []\n",
    "        ys = []\n",
    "        i = 0\n",
    "\n",
    "        for contour in contours[0:2]:\n",
    "            all_x_pts = []\n",
    "            all_y_pts = []\n",
    "            if i > 0:\n",
    "                main_str = main_str + ','\n",
    "            for point in contour:\n",
    "                x = point[0][0]\n",
    "                y = point[0][1]\n",
    "                all_x_pts.append(x)\n",
    "                all_y_pts.append(y)\n",
    "            xs.append(all_x_pts)\n",
    "            ys.append(all_y_pts)\n",
    "\n",
    "            main_str = main_str + '{' + '\"' + 'shape_attributes' + '\"' + ':' + '{' + '\"' + 'name' + '\"' + ':' + '\"' + 'polygon' + '\"' + ',' + '\"' + 'all_points_x' + '\"' + ':' + str(all_x_pts) + ',' + '\"' + 'all_points_y' + '\"' + ':' + str(all_y_pts) + '}' + ',' + '\"' + 'region_attributes' + '\"' + ':' + '{' + '\"' + 'class' + '\"' + ':' + '{' + '\"' + 'bacteria' + '\"' + ':' + 'true' + '}}}'                                                  #\n",
    "            i = i + 1\n",
    "\n",
    "\n",
    "        main_str = main_str + ']'\n",
    "\n",
    "        main_str = main_str + ','  + '\"' + 'file_attributes' + '\"' + ':{}}'\n",
    "        \n",
    "        j = j + 1\n",
    "        \n",
    "    main_str = main_str + '}'\n",
    "    \n",
    "    json_file = open('./via_region_data.json', 'w')\n",
    "    json_file.write(main_str)\n",
    "    json_file.close()"
   ]
  },
  {
   "cell_type": "code",
   "execution_count": 3,
   "metadata": {},
   "outputs": [],
   "source": [
    "if __name__ == '__main__':\n",
    "    ROOT_DIR = os.path.abspath(\"./\")\n",
    "    gimme_json( './datasets/bacteria/train')"
   ]
  },
  {
   "cell_type": "code",
   "execution_count": null,
   "metadata": {},
   "outputs": [],
   "source": []
  }
 ],
 "metadata": {
  "kernelspec": {
   "display_name": "Python [default]",
   "language": "python",
   "name": "python3"
  },
  "language_info": {
   "codemirror_mode": {
    "name": "ipython",
    "version": 3
   },
   "file_extension": ".py",
   "mimetype": "text/x-python",
   "name": "python",
   "nbconvert_exporter": "python",
   "pygments_lexer": "ipython3",
   "version": "3.6.6"
  }
 },
 "nbformat": 4,
 "nbformat_minor": 2
}
